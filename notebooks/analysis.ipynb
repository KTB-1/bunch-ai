{
 "cells": [
  {
   "cell_type": "code",
   "execution_count": 28,
   "metadata": {},
   "outputs": [
    {
     "data": {
      "text/html": [
       "<div>\n",
       "<style scoped>\n",
       "    .dataframe tbody tr th:only-of-type {\n",
       "        vertical-align: middle;\n",
       "    }\n",
       "\n",
       "    .dataframe tbody tr th {\n",
       "        vertical-align: top;\n",
       "    }\n",
       "\n",
       "    .dataframe thead th {\n",
       "        text-align: right;\n",
       "    }\n",
       "</style>\n",
       "<table border=\"1\" class=\"dataframe\">\n",
       "  <thead>\n",
       "    <tr style=\"text-align: right;\">\n",
       "      <th></th>\n",
       "      <th>Category</th>\n",
       "      <th>Title</th>\n",
       "      <th>Original Link</th>\n",
       "      <th>Description</th>\n",
       "      <th>Publication Date</th>\n",
       "      <th>content</th>\n",
       "    </tr>\n",
       "  </thead>\n",
       "  <tbody>\n",
       "    <tr>\n",
       "      <th>2</th>\n",
       "      <td>주식</td>\n",
       "      <td>국민연금, 가상화폐 간접 투자… 美 비트코인 최다 보유 기업 주식 매입</td>\n",
       "      <td>https://biz.chosun.com/international/internati...</td>\n",
       "      <td>마이크로스트래티지 주식을 매입했다고 보도했다. 마이크로스트래티지는 비트코인을 가장 ...</td>\n",
       "      <td>Sat, 17 Aug 2024 09:40:00 +0900</td>\n",
       "      <td>FAIL</td>\n",
       "    </tr>\n",
       "    <tr>\n",
       "      <th>15</th>\n",
       "      <td>주식</td>\n",
       "      <td>국민연금, 비트코인 최다 보유 美 기업 주식 460억원 매입</td>\n",
       "      <td>https://biz.sbs.co.kr/article_hub/20000187344?...</td>\n",
       "      <td>마이크로스트래티지 주식을 매입했다고 보도했습니다. 마이크로스트래티지는 가장 많은 비...</td>\n",
       "      <td>Sat, 17 Aug 2024 10:30:00 +0900</td>\n",
       "      <td>FAIL</td>\n",
       "    </tr>\n",
       "    <tr>\n",
       "      <th>26</th>\n",
       "      <td>주식</td>\n",
       "      <td>버핏, 애플 주식 절반 팔고 이 주식 샀다</td>\n",
       "      <td>https://biz.sbs.co.kr/article_hub/20000187136?...</td>\n",
       "      <td>헤이코 주식을 각각 69만여주, 104만여주 매수했다고 밝혔습니다. 이는 이날 종가...</td>\n",
       "      <td>Fri, 16 Aug 2024 04:13:00 +0900</td>\n",
       "      <td>FAIL</td>\n",
       "    </tr>\n",
       "    <tr>\n",
       "      <th>31</th>\n",
       "      <td>채권</td>\n",
       "      <td>‘티메프’ 이어 인터파크커머스도 회생절차 신청… “ARS로 채권자와 협의”</td>\n",
       "      <td>https://biz.chosun.com/distribution/channel/20...</td>\n",
       "      <td>ARS는 법원이 강제 회생절차 개시를 보류하고 기업과 채권자들이 자율적으로 구조조정...</td>\n",
       "      <td>Fri, 16 Aug 2024 20:22:00 +0900</td>\n",
       "      <td>FAIL</td>\n",
       "    </tr>\n",
       "    <tr>\n",
       "      <th>84</th>\n",
       "      <td>금융</td>\n",
       "      <td>하나금융, 지난해 5조4072억원 사회적 가치 창출</td>\n",
       "      <td>https://biz.chosun.com/stock/finance/2024/08/1...</td>\n",
       "      <td>2023 ESG 임팩트 보고서 발간 하나금융그룹이 지난해 ESG(환경·사회·지배구조...</td>\n",
       "      <td>Fri, 16 Aug 2024 09:17:00 +0900</td>\n",
       "      <td>FAIL</td>\n",
       "    </tr>\n",
       "  </tbody>\n",
       "</table>\n",
       "</div>"
      ],
      "text/plain": [
       "   Category                                      Title  \\\n",
       "2        주식    국민연금, 가상화폐 간접 투자… 美 비트코인 최다 보유 기업 주식 매입   \n",
       "15       주식          국민연금, 비트코인 최다 보유 美 기업 주식 460억원 매입   \n",
       "26       주식                    버핏, 애플 주식 절반 팔고 이 주식 샀다   \n",
       "31       채권  ‘티메프’ 이어 인터파크커머스도 회생절차 신청… “ARS로 채권자와 협의”   \n",
       "84       금융               하나금융, 지난해 5조4072억원 사회적 가치 창출   \n",
       "\n",
       "                                        Original Link  \\\n",
       "2   https://biz.chosun.com/international/internati...   \n",
       "15  https://biz.sbs.co.kr/article_hub/20000187344?...   \n",
       "26  https://biz.sbs.co.kr/article_hub/20000187136?...   \n",
       "31  https://biz.chosun.com/distribution/channel/20...   \n",
       "84  https://biz.chosun.com/stock/finance/2024/08/1...   \n",
       "\n",
       "                                          Description  \\\n",
       "2   마이크로스트래티지 주식을 매입했다고 보도했다. 마이크로스트래티지는 비트코인을 가장 ...   \n",
       "15  마이크로스트래티지 주식을 매입했다고 보도했습니다. 마이크로스트래티지는 가장 많은 비...   \n",
       "26  헤이코 주식을 각각 69만여주, 104만여주 매수했다고 밝혔습니다. 이는 이날 종가...   \n",
       "31  ARS는 법원이 강제 회생절차 개시를 보류하고 기업과 채권자들이 자율적으로 구조조정...   \n",
       "84  2023 ESG 임팩트 보고서 발간 하나금융그룹이 지난해 ESG(환경·사회·지배구조...   \n",
       "\n",
       "                   Publication Date content  \n",
       "2   Sat, 17 Aug 2024 09:40:00 +0900    FAIL  \n",
       "15  Sat, 17 Aug 2024 10:30:00 +0900    FAIL  \n",
       "26  Fri, 16 Aug 2024 04:13:00 +0900    FAIL  \n",
       "31  Fri, 16 Aug 2024 20:22:00 +0900    FAIL  \n",
       "84  Fri, 16 Aug 2024 09:17:00 +0900    FAIL  "
      ]
     },
     "execution_count": 28,
     "metadata": {},
     "output_type": "execute_result"
    }
   ],
   "source": [
    "import pandas as pd\n",
    "\n",
    "# CSV 파일 경로 설정\n",
    "csv_file_path = '../data/raw_data.csv'\n",
    "df = pd.read_csv(csv_file_path)\n",
    "\n",
    "# 'content' 컬럼에서 NaN 값인 행들만 필터링하여 새로운 데이터프레임 생성\n",
    "nan_df = df[df['content'] == \"FAIL\"]\n",
    "\n",
    "# 결과 출력\n",
    "nan_df\n"
   ]
  },
  {
   "cell_type": "markdown",
   "metadata": {},
   "source": [
    "# 요약"
   ]
  },
  {
   "cell_type": "code",
   "execution_count": 42,
   "metadata": {},
   "outputs": [
    {
     "name": "stdout",
     "output_type": "stream",
     "text": [
      "{title} :  국민연금, 비트코인 최다 보유 기업 주식 매입…460억 원 규모\n",
      "{text} :  국민연금, 비트코인 최다 보유 기업 주식 매입…460억 원 규모글자크기축소글자크기확대프린터공유경제국민연금, 비트코인 최다 보유 기업 주식 매입…460억 원 규모등록 2024.08.17 11:21    / 수정 2024.08.17 11:32지정용 기자글자크기축소글자크기확대즐겨찾기프린터공유/TV조선 방송화면 캡처국민연금이 가상화폐에 대한 간접 투자를 확대하고 있다.코인 전문매체 코인데스크는 16일(현지시간) 최근 공개된 증권거래위원회(SEC) 자료를 인용해 국민연금이 올해 2분기에 마이크로스트레티지 주식 약 3400만 달러(460억 원) 상당을 매입했다고 보도했다.마이크로스트래티지는 가장 많은 비트코인을 보유한 회사다.약 2천만 개에 달하는 비트코인 전체 공급량의 1% 이상인 22만6500개를 보유 중이다.국민연금은 마이크로스트래티지가 이달 초 1대 10의 주식 분할 전에 평균 1377.48달러에 2만4500주를 매입했다.정확하게 3374만8260달러(약 457억 원) 규모다.주식 분할 후 국민연금이 보유한 주식 수는 24만5천 주로 늘었다.이날 종가(133.04달러) 기준 보유 금액은 3259만4800달러(약 441억 원)로 3.4% 손실을 기록 중이다.코인데스크는 \"마이크로스트래티지가 코인 최대 기업 보유자인 만큼 국민연금의 주식 매입은 비트코인(BTC)에 대한 간접 투자로 볼 수 있다\"고 전했다.국민연금이 가상화폐 관련 기업 주식을 매입한 것은 처음은 아니다.코인데스크에 따르면 국민연금은 미 가상화폐 거래소 코인베이스 주식 22만9807주도 보유하고 있다.국민연금은 지난해 코인베이스 주식을 평균 70.5달러에 28만2673주를 매입했다.Copyrights ⓒ TV조선. 무단전재 및 재배포 금지제보하기\n"
     ]
    }
   ],
   "source": [
    "import pandas as pd\n",
    "\n",
    "# CSV 파일 경로 설정\n",
    "csv_file_path = '../data/raw_data.csv'\n",
    "df = pd.read_csv(csv_file_path)\n",
    "\n",
    "print(\"{title} : \", df.iloc[0][\"Title\"])\n",
    "print(\"{text} : \", df.iloc[0][\"Content\"])"
   ]
  },
  {
   "cell_type": "code",
   "execution_count": 53,
   "metadata": {},
   "outputs": [],
   "source": [
    "from langchain_community.llms import Ollama\n",
    "from langchain.prompts import PromptTemplate\n",
    "from langchain.schema import StrOutputParser\n",
    "\n",
    "# Ollama를 사용하여 Gemma2 모델 초기화\n",
    "model = Ollama(model=\"gemma2:latest\")\n",
    "\n",
    "# ChatPromptTemplate 정의\n",
    "prompt = PromptTemplate.from_template(\"\"\"\n",
    "    당신은 친절한 금융 전문 뉴스 기자입니다. \n",
    "    주어진 뉴스 기사를 다음의 포맷에 맞춰 정리해 주세요. \n",
    "    뉴스 제목과 내용에서 기자의 이름, 광고 정보 등 뉴스와 관련 없는 정보를 제외하고, 아래의 형식에 맞게 JSON으로 작성해 주세요.\n",
    "    \n",
    "    **** 세부 지침:\n",
    "    1. 뉴스 제목: 기사의 제목을 그대로 작성합니다.\n",
    "    2. 중요 포인트: 기사의 핵심 정보를 세 가지 포인트로 요약합니다. 각 포인트는 기사 내용을 잘 나타내야 합니다.\n",
    "    3. 한 줄 인사이트: 기사의 핵심적인 메시지를 한 문장으로 요약합니다.\n",
    "    \n",
    "    **** json 포맷\n",
    "    {\n",
    "        \"title\": \"{title}\",\n",
    "        \"key_points\": [\n",
    "        \"첫 번째 중요한 포인트\",\n",
    "        \"두 번째 중요한 포인트\",\n",
    "        \"세 번째 중요한 포인트\"\n",
    "        ],\n",
    "        \"insight\": \"한 줄 인사이트\"\n",
    "    }\n",
    "    \n",
    "\"\"\")\n",
    "\n",
    "# 체인 생성\n",
    "chain = prompt | model | StrOutputParser()\n",
    "\n"
   ]
  },
  {
   "cell_type": "code",
   "execution_count": 54,
   "metadata": {},
   "outputs": [
    {
     "name": "stdout",
     "output_type": "stream",
     "text": [
      "국민연금, 비트코인 최다 보유 기업 주식 매입…460억 원 규모\n"
     ]
    },
    {
     "ename": "KeyError",
     "evalue": "'Input to PromptTemplate is missing variables {\\'\\\\n        \"title\"\\'}.  Expected: [\\'\\\\n        \"title\"\\'] Received: [\\'title\\', \\'text\\']'",
     "output_type": "error",
     "traceback": [
      "\u001b[0;31m---------------------------------------------------------------------------\u001b[0m",
      "\u001b[0;31mKeyError\u001b[0m                                  Traceback (most recent call last)",
      "Cell \u001b[0;32mIn[54], line 16\u001b[0m\n\u001b[1;32m     13\u001b[0m     text_to_summarize \u001b[38;5;241m=\u001b[39m row[\u001b[38;5;124m\"\u001b[39m\u001b[38;5;124mDescription\u001b[39m\u001b[38;5;124m\"\u001b[39m]\n\u001b[1;32m     15\u001b[0m \u001b[38;5;28;01mif\u001b[39;00m pd\u001b[38;5;241m.\u001b[39mnotna(text_to_summarize) \u001b[38;5;129;01mand\u001b[39;00m text_to_summarize:\n\u001b[0;32m---> 16\u001b[0m     response \u001b[38;5;241m=\u001b[39m \u001b[43mchain\u001b[49m\u001b[38;5;241;43m.\u001b[39;49m\u001b[43minvoke\u001b[49m\u001b[43m(\u001b[49m\u001b[43m{\u001b[49m\u001b[38;5;124;43m\"\u001b[39;49m\u001b[38;5;124;43mtitle\u001b[39;49m\u001b[38;5;124;43m\"\u001b[39;49m\u001b[43m:\u001b[49m\u001b[43mtitle\u001b[49m\u001b[43m,\u001b[49m\u001b[43m \u001b[49m\u001b[38;5;124;43m\"\u001b[39;49m\u001b[38;5;124;43mtext\u001b[39;49m\u001b[38;5;124;43m\"\u001b[39;49m\u001b[43m:\u001b[49m\u001b[43m \u001b[49m\u001b[43mtext_to_summarize\u001b[49m\u001b[43m}\u001b[49m\u001b[43m)\u001b[49m\n\u001b[1;32m     17\u001b[0m     \u001b[38;5;28mprint\u001b[39m(response)\n\u001b[1;32m     18\u001b[0m     \u001b[38;5;28mprint\u001b[39m(\u001b[38;5;124mf\u001b[39m\u001b[38;5;124m\"\u001b[39m\u001b[38;5;124m요약 완료: \u001b[39m\u001b[38;5;132;01m{\u001b[39;00mtext_to_summarize[:\u001b[38;5;241m50\u001b[39m]\u001b[38;5;132;01m}\u001b[39;00m\u001b[38;5;124m...\u001b[39m\u001b[38;5;124m\"\u001b[39m)  \u001b[38;5;66;03m# 일부만 로그에 기록\u001b[39;00m\n",
      "File \u001b[0;32m/opt/anaconda3/envs/tensorflow_env/lib/python3.10/site-packages/langchain_core/runnables/base.py:2876\u001b[0m, in \u001b[0;36mRunnableSequence.invoke\u001b[0;34m(self, input, config, **kwargs)\u001b[0m\n\u001b[1;32m   2874\u001b[0m context\u001b[38;5;241m.\u001b[39mrun(_set_config_context, config)\n\u001b[1;32m   2875\u001b[0m \u001b[38;5;28;01mif\u001b[39;00m i \u001b[38;5;241m==\u001b[39m \u001b[38;5;241m0\u001b[39m:\n\u001b[0;32m-> 2876\u001b[0m     \u001b[38;5;28minput\u001b[39m \u001b[38;5;241m=\u001b[39m \u001b[43mcontext\u001b[49m\u001b[38;5;241;43m.\u001b[39;49m\u001b[43mrun\u001b[49m\u001b[43m(\u001b[49m\u001b[43mstep\u001b[49m\u001b[38;5;241;43m.\u001b[39;49m\u001b[43minvoke\u001b[49m\u001b[43m,\u001b[49m\u001b[43m \u001b[49m\u001b[38;5;28;43minput\u001b[39;49m\u001b[43m,\u001b[49m\u001b[43m \u001b[49m\u001b[43mconfig\u001b[49m\u001b[43m,\u001b[49m\u001b[43m \u001b[49m\u001b[38;5;241;43m*\u001b[39;49m\u001b[38;5;241;43m*\u001b[39;49m\u001b[43mkwargs\u001b[49m\u001b[43m)\u001b[49m\n\u001b[1;32m   2877\u001b[0m \u001b[38;5;28;01melse\u001b[39;00m:\n\u001b[1;32m   2878\u001b[0m     \u001b[38;5;28minput\u001b[39m \u001b[38;5;241m=\u001b[39m context\u001b[38;5;241m.\u001b[39mrun(step\u001b[38;5;241m.\u001b[39minvoke, \u001b[38;5;28minput\u001b[39m, config)\n",
      "File \u001b[0;32m/opt/anaconda3/envs/tensorflow_env/lib/python3.10/site-packages/langchain_core/prompts/base.py:179\u001b[0m, in \u001b[0;36mBasePromptTemplate.invoke\u001b[0;34m(self, input, config)\u001b[0m\n\u001b[1;32m    177\u001b[0m \u001b[38;5;28;01mif\u001b[39;00m \u001b[38;5;28mself\u001b[39m\u001b[38;5;241m.\u001b[39mtags:\n\u001b[1;32m    178\u001b[0m     config[\u001b[38;5;124m\"\u001b[39m\u001b[38;5;124mtags\u001b[39m\u001b[38;5;124m\"\u001b[39m] \u001b[38;5;241m=\u001b[39m config[\u001b[38;5;124m\"\u001b[39m\u001b[38;5;124mtags\u001b[39m\u001b[38;5;124m\"\u001b[39m] \u001b[38;5;241m+\u001b[39m \u001b[38;5;28mself\u001b[39m\u001b[38;5;241m.\u001b[39mtags\n\u001b[0;32m--> 179\u001b[0m \u001b[38;5;28;01mreturn\u001b[39;00m \u001b[38;5;28;43mself\u001b[39;49m\u001b[38;5;241;43m.\u001b[39;49m\u001b[43m_call_with_config\u001b[49m\u001b[43m(\u001b[49m\n\u001b[1;32m    180\u001b[0m \u001b[43m    \u001b[49m\u001b[38;5;28;43mself\u001b[39;49m\u001b[38;5;241;43m.\u001b[39;49m\u001b[43m_format_prompt_with_error_handling\u001b[49m\u001b[43m,\u001b[49m\n\u001b[1;32m    181\u001b[0m \u001b[43m    \u001b[49m\u001b[38;5;28;43minput\u001b[39;49m\u001b[43m,\u001b[49m\n\u001b[1;32m    182\u001b[0m \u001b[43m    \u001b[49m\u001b[43mconfig\u001b[49m\u001b[43m,\u001b[49m\n\u001b[1;32m    183\u001b[0m \u001b[43m    \u001b[49m\u001b[43mrun_type\u001b[49m\u001b[38;5;241;43m=\u001b[39;49m\u001b[38;5;124;43m\"\u001b[39;49m\u001b[38;5;124;43mprompt\u001b[39;49m\u001b[38;5;124;43m\"\u001b[39;49m\u001b[43m,\u001b[49m\n\u001b[1;32m    184\u001b[0m \u001b[43m\u001b[49m\u001b[43m)\u001b[49m\n",
      "File \u001b[0;32m/opt/anaconda3/envs/tensorflow_env/lib/python3.10/site-packages/langchain_core/runnables/base.py:1785\u001b[0m, in \u001b[0;36mRunnable._call_with_config\u001b[0;34m(self, func, input, config, run_type, **kwargs)\u001b[0m\n\u001b[1;32m   1781\u001b[0m     context \u001b[38;5;241m=\u001b[39m copy_context()\n\u001b[1;32m   1782\u001b[0m     context\u001b[38;5;241m.\u001b[39mrun(_set_config_context, child_config)\n\u001b[1;32m   1783\u001b[0m     output \u001b[38;5;241m=\u001b[39m cast(\n\u001b[1;32m   1784\u001b[0m         Output,\n\u001b[0;32m-> 1785\u001b[0m         \u001b[43mcontext\u001b[49m\u001b[38;5;241;43m.\u001b[39;49m\u001b[43mrun\u001b[49m\u001b[43m(\u001b[49m\n\u001b[1;32m   1786\u001b[0m \u001b[43m            \u001b[49m\u001b[43mcall_func_with_variable_args\u001b[49m\u001b[43m,\u001b[49m\u001b[43m  \u001b[49m\u001b[38;5;66;43;03m# type: ignore[arg-type]\u001b[39;49;00m\n\u001b[1;32m   1787\u001b[0m \u001b[43m            \u001b[49m\u001b[43mfunc\u001b[49m\u001b[43m,\u001b[49m\u001b[43m  \u001b[49m\u001b[38;5;66;43;03m# type: ignore[arg-type]\u001b[39;49;00m\n\u001b[1;32m   1788\u001b[0m \u001b[43m            \u001b[49m\u001b[38;5;28;43minput\u001b[39;49m\u001b[43m,\u001b[49m\u001b[43m  \u001b[49m\u001b[38;5;66;43;03m# type: ignore[arg-type]\u001b[39;49;00m\n\u001b[1;32m   1789\u001b[0m \u001b[43m            \u001b[49m\u001b[43mconfig\u001b[49m\u001b[43m,\u001b[49m\n\u001b[1;32m   1790\u001b[0m \u001b[43m            \u001b[49m\u001b[43mrun_manager\u001b[49m\u001b[43m,\u001b[49m\n\u001b[1;32m   1791\u001b[0m \u001b[43m            \u001b[49m\u001b[38;5;241;43m*\u001b[39;49m\u001b[38;5;241;43m*\u001b[39;49m\u001b[43mkwargs\u001b[49m\u001b[43m,\u001b[49m\n\u001b[1;32m   1792\u001b[0m \u001b[43m        \u001b[49m\u001b[43m)\u001b[49m,\n\u001b[1;32m   1793\u001b[0m     )\n\u001b[1;32m   1794\u001b[0m \u001b[38;5;28;01mexcept\u001b[39;00m \u001b[38;5;167;01mBaseException\u001b[39;00m \u001b[38;5;28;01mas\u001b[39;00m e:\n\u001b[1;32m   1795\u001b[0m     run_manager\u001b[38;5;241m.\u001b[39mon_chain_error(e)\n",
      "File \u001b[0;32m/opt/anaconda3/envs/tensorflow_env/lib/python3.10/site-packages/langchain_core/runnables/config.py:427\u001b[0m, in \u001b[0;36mcall_func_with_variable_args\u001b[0;34m(func, input, config, run_manager, **kwargs)\u001b[0m\n\u001b[1;32m    425\u001b[0m \u001b[38;5;28;01mif\u001b[39;00m run_manager \u001b[38;5;129;01mis\u001b[39;00m \u001b[38;5;129;01mnot\u001b[39;00m \u001b[38;5;28;01mNone\u001b[39;00m \u001b[38;5;129;01mand\u001b[39;00m accepts_run_manager(func):\n\u001b[1;32m    426\u001b[0m     kwargs[\u001b[38;5;124m\"\u001b[39m\u001b[38;5;124mrun_manager\u001b[39m\u001b[38;5;124m\"\u001b[39m] \u001b[38;5;241m=\u001b[39m run_manager\n\u001b[0;32m--> 427\u001b[0m \u001b[38;5;28;01mreturn\u001b[39;00m \u001b[43mfunc\u001b[49m\u001b[43m(\u001b[49m\u001b[38;5;28;43minput\u001b[39;49m\u001b[43m,\u001b[49m\u001b[43m \u001b[49m\u001b[38;5;241;43m*\u001b[39;49m\u001b[38;5;241;43m*\u001b[39;49m\u001b[43mkwargs\u001b[49m\u001b[43m)\u001b[49m\n",
      "File \u001b[0;32m/opt/anaconda3/envs/tensorflow_env/lib/python3.10/site-packages/langchain_core/prompts/base.py:153\u001b[0m, in \u001b[0;36mBasePromptTemplate._format_prompt_with_error_handling\u001b[0;34m(self, inner_input)\u001b[0m\n\u001b[1;32m    152\u001b[0m \u001b[38;5;28;01mdef\u001b[39;00m \u001b[38;5;21m_format_prompt_with_error_handling\u001b[39m(\u001b[38;5;28mself\u001b[39m, inner_input: Dict) \u001b[38;5;241m-\u001b[39m\u001b[38;5;241m>\u001b[39m PromptValue:\n\u001b[0;32m--> 153\u001b[0m     _inner_input \u001b[38;5;241m=\u001b[39m \u001b[38;5;28;43mself\u001b[39;49m\u001b[38;5;241;43m.\u001b[39;49m\u001b[43m_validate_input\u001b[49m\u001b[43m(\u001b[49m\u001b[43minner_input\u001b[49m\u001b[43m)\u001b[49m\n\u001b[1;32m    154\u001b[0m     \u001b[38;5;28;01mreturn\u001b[39;00m \u001b[38;5;28mself\u001b[39m\u001b[38;5;241m.\u001b[39mformat_prompt(\u001b[38;5;241m*\u001b[39m\u001b[38;5;241m*\u001b[39m_inner_input)\n",
      "File \u001b[0;32m/opt/anaconda3/envs/tensorflow_env/lib/python3.10/site-packages/langchain_core/prompts/base.py:145\u001b[0m, in \u001b[0;36mBasePromptTemplate._validate_input\u001b[0;34m(self, inner_input)\u001b[0m\n\u001b[1;32m    143\u001b[0m missing \u001b[38;5;241m=\u001b[39m \u001b[38;5;28mset\u001b[39m(\u001b[38;5;28mself\u001b[39m\u001b[38;5;241m.\u001b[39minput_variables)\u001b[38;5;241m.\u001b[39mdifference(inner_input)\n\u001b[1;32m    144\u001b[0m \u001b[38;5;28;01mif\u001b[39;00m missing:\n\u001b[0;32m--> 145\u001b[0m     \u001b[38;5;28;01mraise\u001b[39;00m \u001b[38;5;167;01mKeyError\u001b[39;00m(\n\u001b[1;32m    146\u001b[0m         \u001b[38;5;124mf\u001b[39m\u001b[38;5;124m\"\u001b[39m\u001b[38;5;124mInput to \u001b[39m\u001b[38;5;132;01m{\u001b[39;00m\u001b[38;5;28mself\u001b[39m\u001b[38;5;241m.\u001b[39m\u001b[38;5;18m__class__\u001b[39m\u001b[38;5;241m.\u001b[39m\u001b[38;5;18m__name__\u001b[39m\u001b[38;5;132;01m}\u001b[39;00m\u001b[38;5;124m is missing variables \u001b[39m\u001b[38;5;132;01m{\u001b[39;00mmissing\u001b[38;5;132;01m}\u001b[39;00m\u001b[38;5;124m. \u001b[39m\u001b[38;5;124m\"\u001b[39m\n\u001b[1;32m    147\u001b[0m         \u001b[38;5;124mf\u001b[39m\u001b[38;5;124m\"\u001b[39m\u001b[38;5;124m Expected: \u001b[39m\u001b[38;5;132;01m{\u001b[39;00m\u001b[38;5;28mself\u001b[39m\u001b[38;5;241m.\u001b[39minput_variables\u001b[38;5;132;01m}\u001b[39;00m\u001b[38;5;124m\"\u001b[39m\n\u001b[1;32m    148\u001b[0m         \u001b[38;5;124mf\u001b[39m\u001b[38;5;124m\"\u001b[39m\u001b[38;5;124m Received: \u001b[39m\u001b[38;5;132;01m{\u001b[39;00m\u001b[38;5;28mlist\u001b[39m(inner_input\u001b[38;5;241m.\u001b[39mkeys())\u001b[38;5;132;01m}\u001b[39;00m\u001b[38;5;124m\"\u001b[39m\n\u001b[1;32m    149\u001b[0m     )\n\u001b[1;32m    150\u001b[0m \u001b[38;5;28;01mreturn\u001b[39;00m inner_input\n",
      "\u001b[0;31mKeyError\u001b[0m: 'Input to PromptTemplate is missing variables {\\'\\\\n        \"title\"\\'}.  Expected: [\\'\\\\n        \"title\"\\'] Received: [\\'title\\', \\'text\\']'"
     ]
    }
   ],
   "source": [
    "\n",
    "for index, row in df[:3].iterrows():\n",
    "    title = row[\"Title\"]\n",
    "    print(title)\n",
    "    text = row['Content']\n",
    "    if pd.isna(text):\n",
    "        # nan인 경우, 아직 원문 스크래핑 작업 하기 전이므로 pass\n",
    "        pass\n",
    "    elif text != \"FAIL\":\n",
    "        # content가 있을 경우\n",
    "        text_to_summarize = text\n",
    "    else:\n",
    "        # content가 'FAIL'일 경우 description 사용\n",
    "        text_to_summarize = row[\"Description\"]\n",
    "\n",
    "    if pd.notna(text_to_summarize) and text_to_summarize:\n",
    "        response = chain.invoke({\"title\":title, \"text\": text_to_summarize})\n",
    "        print(response)\n",
    "        print(f\"요약 완료: {text_to_summarize[:50]}...\")  # 일부만 로그에 기록\n",
    "    else:\n",
    "        print(f\"요약할 내용이 없음: {index}\")\n",
    "\n",
    "\n"
   ]
  }
 ],
 "metadata": {
  "kernelspec": {
   "display_name": "tensorflow_env",
   "language": "python",
   "name": "python3"
  },
  "language_info": {
   "codemirror_mode": {
    "name": "ipython",
    "version": 3
   },
   "file_extension": ".py",
   "mimetype": "text/x-python",
   "name": "python",
   "nbconvert_exporter": "python",
   "pygments_lexer": "ipython3",
   "version": "3.10.14"
  }
 },
 "nbformat": 4,
 "nbformat_minor": 2
}
